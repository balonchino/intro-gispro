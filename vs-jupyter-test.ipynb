{
 "cells": [
  {
   "cell_type": "code",
   "execution_count": 6,
   "id": "a65f1932",
   "metadata": {},
   "outputs": [
    {
     "name": "stdout",
     "output_type": "stream",
     "text": [
      "Hola Jupyters\n"
     ]
    }
   ],
   "source": [
    "#Este es un ejemplo de Jupyter\n",
    "print(\"Hola Jupyters\")"
   ]
  },
  {
   "cell_type": "code",
   "execution_count": 7,
   "id": "25b37408",
   "metadata": {},
   "outputs": [
    {
     "name": "stdout",
     "output_type": "stream",
     "text": [
      "Hola:  John\n"
     ]
    }
   ],
   "source": [
    "a = \"John\"\n",
    "print(\"Hola: \", a)"
   ]
  }
 ],
 "metadata": {
  "kernelspec": {
   "display_name": "geofast",
   "language": "python",
   "name": "python3"
  },
  "language_info": {
   "codemirror_mode": {
    "name": "ipython",
    "version": 3
   },
   "file_extension": ".py",
   "mimetype": "text/x-python",
   "name": "python",
   "nbconvert_exporter": "python",
   "pygments_lexer": "ipython3",
   "version": "3.12.9"
  }
 },
 "nbformat": 4,
 "nbformat_minor": 5
}
